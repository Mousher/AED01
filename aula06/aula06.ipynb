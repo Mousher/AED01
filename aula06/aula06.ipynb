{
 "cells": [
  {
   "cell_type": "markdown",
   "id": "fe5bfb0e-50b5-4ab9-ab3f-26ca8ae8fc73",
   "metadata": {},
   "source": [
    "## Comandos de Entrada e Saída"
   ]
  },
  {
   "cell_type": "code",
   "execution_count": 3,
   "id": "af6fd5d1-4e45-40fa-9dfc-3a6346b645ed",
   "metadata": {},
   "outputs": [],
   "source": [
    "nome = \"Mousher\"\n",
    "idade = 35"
   ]
  },
  {
   "cell_type": "code",
   "execution_count": 5,
   "id": "c5ab2a7d-c51a-43e3-ae68-9a0aa7d82be3",
   "metadata": {},
   "outputs": [
    {
     "name": "stdout",
     "output_type": "stream",
     "text": [
      "Mousher tem 35 anos!\n"
     ]
    }
   ],
   "source": [
    "print(nome,\"tem\", idade, \"anos!\")"
   ]
  },
  {
   "cell_type": "markdown",
   "id": "3527abce-202c-4c0f-aa43-a09404dc4848",
   "metadata": {},
   "source": [
    "nome = input(\"Digite o seu nome: \")"
   ]
  },
  {
   "cell_type": "code",
   "execution_count": 7,
   "id": "c7a51f73-f2fb-4f0a-bb6b-071137e9577f",
   "metadata": {},
   "outputs": [
    {
     "name": "stdin",
     "output_type": "stream",
     "text": [
      "Digite seu nome:  Mousher\n"
     ]
    }
   ],
   "source": [
    "nome = input(\"Digite seu nome: \")"
   ]
  },
  {
   "cell_type": "code",
   "execution_count": 8,
   "id": "b0067e4a-1345-4239-bbfc-fb1d3f5b3448",
   "metadata": {},
   "outputs": [
    {
     "name": "stdout",
     "output_type": "stream",
     "text": [
      "Mousher\n"
     ]
    }
   ],
   "source": [
    "print(nome)"
   ]
  },
  {
   "cell_type": "code",
   "execution_count": 9,
   "id": "9affee71-c5a6-4cc8-aa40-a44a02826647",
   "metadata": {},
   "outputs": [
    {
     "data": {
      "text/plain": [
       "str"
      ]
     },
     "execution_count": 9,
     "metadata": {},
     "output_type": "execute_result"
    }
   ],
   "source": [
    "type(nome)"
   ]
  },
  {
   "cell_type": "code",
   "execution_count": 10,
   "id": "5e62f072-1582-4e04-9c73-d8db5cf4f70d",
   "metadata": {},
   "outputs": [
    {
     "name": "stdin",
     "output_type": "stream",
     "text": [
      "Digite sua idade:  35\n"
     ]
    }
   ],
   "source": [
    "idade = input(\"Digite sua idade: \")"
   ]
  },
  {
   "cell_type": "code",
   "execution_count": 11,
   "id": "e88cb3c0-e0c8-4d46-a85f-df9f346e89ab",
   "metadata": {},
   "outputs": [
    {
     "data": {
      "text/plain": [
       "'35'"
      ]
     },
     "execution_count": 11,
     "metadata": {},
     "output_type": "execute_result"
    }
   ],
   "source": [
    "idade"
   ]
  },
  {
   "cell_type": "code",
   "execution_count": 12,
   "id": "ffacf08e-9793-44a4-a78e-67b9c1c24609",
   "metadata": {},
   "outputs": [],
   "source": [
    "idade = int(idade) # converte a variável idade para o tipo de inteiro"
   ]
  },
  {
   "cell_type": "code",
   "execution_count": 13,
   "id": "e27a2b88-542a-40eb-a46b-2bc91aeaf64d",
   "metadata": {},
   "outputs": [
    {
     "data": {
      "text/plain": [
       "int"
      ]
     },
     "execution_count": 13,
     "metadata": {},
     "output_type": "execute_result"
    }
   ],
   "source": [
    "type(idade)"
   ]
  },
  {
   "cell_type": "code",
   "execution_count": 14,
   "id": "bb2957ed-f0b0-4ba7-862e-dc93fc7304f6",
   "metadata": {},
   "outputs": [
    {
     "data": {
      "text/plain": [
       "35"
      ]
     },
     "execution_count": 14,
     "metadata": {},
     "output_type": "execute_result"
    }
   ],
   "source": [
    "idade"
   ]
  },
  {
   "cell_type": "code",
   "execution_count": 15,
   "id": "57cbea4d-5d62-4671-84f1-78bf8f314795",
   "metadata": {},
   "outputs": [
    {
     "ename": "ValueError",
     "evalue": "invalid literal for int() with base 10: 'Mousher'",
     "output_type": "error",
     "traceback": [
      "\u001b[1;31m---------------------------------------------------------------------------\u001b[0m",
      "\u001b[1;31mValueError\u001b[0m                                Traceback (most recent call last)",
      "Cell \u001b[1;32mIn[15], line 1\u001b[0m\n\u001b[1;32m----> 1\u001b[0m nome \u001b[38;5;241m=\u001b[39m \u001b[38;5;28mint\u001b[39m(nome)\n",
      "\u001b[1;31mValueError\u001b[0m: invalid literal for int() with base 10: 'Mousher'"
     ]
    }
   ],
   "source": [
    "nome = int(nome) # nem todas as variáveis podem ser convertidas em alguns tipos"
   ]
  },
  {
   "cell_type": "code",
   "execution_count": 18,
   "id": "e890ce87-6802-4384-9534-8076984cdbc0",
   "metadata": {},
   "outputs": [
    {
     "name": "stdin",
     "output_type": "stream",
     "text": [
      "Digite sua idade:  35\n"
     ]
    }
   ],
   "source": [
    "idade = int(input(\"Digite sua idade: \")) # desta forma define que a variável idade é do tipo inteira"
   ]
  },
  {
   "cell_type": "code",
   "execution_count": 19,
   "id": "88c0c823-92e1-48b4-a200-e8b2a12eb7a9",
   "metadata": {},
   "outputs": [
    {
     "data": {
      "text/plain": [
       "35"
      ]
     },
     "execution_count": 19,
     "metadata": {},
     "output_type": "execute_result"
    }
   ],
   "source": [
    "idade"
   ]
  },
  {
   "cell_type": "code",
   "execution_count": 20,
   "id": "5e8e4b9f-4a44-4fce-85b7-b151bec5cbf2",
   "metadata": {},
   "outputs": [
    {
     "data": {
      "text/plain": [
       "int"
      ]
     },
     "execution_count": 20,
     "metadata": {},
     "output_type": "execute_result"
    }
   ],
   "source": [
    "type(idade)"
   ]
  },
  {
   "cell_type": "code",
   "execution_count": 21,
   "id": "83a40558-69cc-4c04-b2db-d3ecded2f1ab",
   "metadata": {},
   "outputs": [],
   "source": [
    "idade = float(idade)"
   ]
  },
  {
   "cell_type": "code",
   "execution_count": 22,
   "id": "303a455e-f7cf-427f-9c1c-4fa6a354cd68",
   "metadata": {},
   "outputs": [
    {
     "data": {
      "text/plain": [
       "35.0"
      ]
     },
     "execution_count": 22,
     "metadata": {},
     "output_type": "execute_result"
    }
   ],
   "source": [
    "idade"
   ]
  },
  {
   "cell_type": "code",
   "execution_count": 23,
   "id": "ad2ad1d8-8cc1-450e-bfa0-d2431d3a91e1",
   "metadata": {},
   "outputs": [],
   "source": [
    "idade = str(idade)"
   ]
  },
  {
   "cell_type": "code",
   "execution_count": 24,
   "id": "32831030-cfa3-448b-8219-b76a71808ebc",
   "metadata": {},
   "outputs": [
    {
     "data": {
      "text/plain": [
       "'35.0'"
      ]
     },
     "execution_count": 24,
     "metadata": {},
     "output_type": "execute_result"
    }
   ],
   "source": [
    "idade"
   ]
  },
  {
   "cell_type": "code",
   "execution_count": 26,
   "id": "4a07bad2-5285-4799-893b-a37d024d893e",
   "metadata": {},
   "outputs": [
    {
     "name": "stdin",
     "output_type": "stream",
     "text": [
      "Digite o lado maior:  5\n",
      "Digite o lado menor:  3\n"
     ]
    },
    {
     "name": "stdout",
     "output_type": "stream",
     "text": [
      " A área do quadrilátero é  15.0 m2.\n"
     ]
    }
   ],
   "source": [
    "l1 = float(input(\"Digite o lado maior: \"))\n",
    "l2 = float(input(\"Digite o lado menor: \"))\n",
    "area = l1 * l2\n",
    "print(\" A área do quadrilátero é \",area,\"m2.\")"
   ]
  },
  {
   "cell_type": "code",
   "execution_count": null,
   "id": "0db97ea7-6afc-40b6-a480-c4fafbaeddc5",
   "metadata": {},
   "outputs": [],
   "source": []
  }
 ],
 "metadata": {
  "kernelspec": {
   "display_name": "Python 3 (ipykernel)",
   "language": "python",
   "name": "python3"
  },
  "language_info": {
   "codemirror_mode": {
    "name": "ipython",
    "version": 3
   },
   "file_extension": ".py",
   "mimetype": "text/x-python",
   "name": "python",
   "nbconvert_exporter": "python",
   "pygments_lexer": "ipython3",
   "version": "3.12.7"
  }
 },
 "nbformat": 4,
 "nbformat_minor": 5
}
