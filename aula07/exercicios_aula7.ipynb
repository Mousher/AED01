{
 "cells": [
  {
   "cell_type": "markdown",
   "id": "ec15d9cb-ea15-40b4-93b9-cf95bcd323cf",
   "metadata": {},
   "source": [
    "## Exercício 1 \n",
    "### Faça um programa que verifique se uma letra digitada é Vogal ou Consoante"
   ]
  },
  {
   "cell_type": "code",
   "execution_count": 6,
   "id": "52a7a26d-f91a-41f8-b891-51ebfb50f865",
   "metadata": {},
   "outputs": [
    {
     "name": "stdin",
     "output_type": "stream",
     "text": [
      "Digite uma letra a\n"
     ]
    },
    {
     "name": "stdout",
     "output_type": "stream",
     "text": [
      "Você digitou a letra:  a\n",
      " Esta letra é uma Vogal!\n"
     ]
    }
   ],
   "source": [
    "letra = input(\"Digite uma letra\")\n",
    "if letra in \"aeiouAEIOU\":\n",
    "    print(\"Você digitou a letra: \",letra)\n",
    "    print(\" Esta letra é uma Vogal!\")\n",
    "else:\n",
    "    print(\"Você digitou a letra: \",letra)\n",
    "    print(\"Esta letra é uma consoante\")\n"
   ]
  },
  {
   "cell_type": "markdown",
   "id": "e4cc684a-3192-41f1-bd40-e7037819d2e6",
   "metadata": {},
   "source": [
    "## Exercício 2\n",
    "### Faça um programa que receba a idade de um nadador e mostre a sua categoria usando as regras a seguir:\n",
    "#### categoria Infantel de 5 a 7 anos, Juvenil de 8 a 10 anos, Adolescente de 11 a 15 anos, Adulto de 16 a 30 anos e Sênior acima de  30 anos"
   ]
  },
  {
   "cell_type": "code",
   "execution_count": 39,
   "id": "141c7956-86cb-4eac-890c-e6ecac2c824a",
   "metadata": {},
   "outputs": [
    {
     "name": "stdin",
     "output_type": "stream",
     "text": [
      "Digite a idade do nadador! 35\n"
     ]
    },
    {
     "name": "stdout",
     "output_type": "stream",
     "text": [
      "A categoria do nadador é SÊNIOR!\n"
     ]
    }
   ],
   "source": [
    "idade = int(input(\"Digite a idade do nadador!\"))\n",
    "if idade <= 4:\n",
    "    print(\"Verifique se digitou a idade correta, não há categoria abaixo de 4 anos!!!\")\n",
    "elif idade >= 5 and idade <= 7:\n",
    "    print(\"A categorida do nadador é INFANTIL!\")\n",
    "elif idade >= 8 and idade <= 10:\n",
    "    print(\"A categorida do nadador é JUVENIL!\")\n",
    "elif idade >= 11 and idade <= 15:\n",
    "    print(\"A categoria do nadador é ADOLESCENTE!\")\n",
    "elif idade >= 16 and idade <= 30:\n",
    "    print(\"A categoria do nadador é ADULTO!\")\n",
    "else:\n",
    "    print(\"A categoria do nadador é SÊNIOR!\")\n",
    "\n",
    "    \n",
    "    "
   ]
  },
  {
   "cell_type": "markdown",
   "id": "e474e0ff-84be-44aa-aae4-5119717201ba",
   "metadata": {},
   "source": [
    "## EXERCÍCIO 3\n",
    "#### Faça um Programa que peça os 3 lados de um triângulo. oprograma deverá informar se os valores podem ser um triângulo.\n",
    "### Indique, caso os lados formem um triângulo, se o mesmo é: equilátero, isósceles ou escaleno.\n",
    "### Dicas:\n",
    "#### • Três lados formam um triângulo quando a soma de quaisquer dois lados for maior que o terceiro;\n",
    "#### • Triângulo Equilátero: três lados iguais;\n",
    "#### • Triângulo Isósceles: quaisquer dois lados iguais;\n",
    "#### • Triângulo Escaleno: três lados diferentes; \n",
    "\n"
   ]
  },
  {
   "cell_type": "code",
   "execution_count": 30,
   "id": "e7822efc-a146-4b2c-b594-4b911583911b",
   "metadata": {},
   "outputs": [
    {
     "name": "stdin",
     "output_type": "stream",
     "text": [
      "Digite o valor do primeiro lado do triângulo 23\n",
      "Digite o valor do segundo lado do triângulo 23\n",
      "Digite o valor do terceiroro lado do triângulo 34\n"
     ]
    },
    {
     "name": "stdout",
     "output_type": "stream",
     "text": [
      "Este triângulo possui dois lados iguais!\n",
      "Logo este é um triângulo Isóceles.\n"
     ]
    }
   ],
   "source": [
    "lado1 = int(input(\"Digite o valor do primeiro lado do triângulo\"))\n",
    "lado2 = int(input(\"Digite o valor do segundo lado do triângulo\"))\n",
    "lado3 = int(input(\"Digite o valor do terceiroro lado do triângulo\"))\n",
    "\n",
    "if (lado1 + lado2 > lado3) and (lado1 + lado3 > lado2) and (lado2 + lado3 > lado1):\n",
    "    if lado1 == lado2 == lado3:\n",
    "        print(\"Este triângulo possui todos os lados iguais!\")\n",
    "        print(\"Logo este é um triângulo Equilátero.\")\n",
    "    elif lado1 != lado2 and lado1 != lado3 and lado2 != lado3:\n",
    "        # Poderia ser (lado1 == lado2) or (lado1 == lado3) or (lado2 == lado3) nesta condição seria um triangulo isoceles\n",
    "         print(\"Este triângulo possui todos os lados diferentes!\")\n",
    "         print(\"Logo este é um triângulo Escaleno.\")\n",
    "    else:\n",
    "        print(\"Este triângulo possui dois lados iguais!\")\n",
    "        print(\"Logo este é um triângulo Isóceles.\")\n",
    "                \n",
    "else:\n",
    "    print(\"Não é um triângulo!!!\")\n"
   ]
  },
  {
   "cell_type": "code",
   "execution_count": 77,
   "id": "66bba252-26a9-43b7-9862-8f63f7c13d97",
   "metadata": {},
   "outputs": [
    {
     "name": "stdin",
     "output_type": "stream",
     "text": [
      "Digite o valor do Produto 10\n",
      "Digite o código do produto 6\n"
     ]
    },
    {
     "name": "stdout",
     "output_type": "stream",
     "text": [
      "Digite um código válido!\n"
     ]
    }
   ],
   "source": [
    "preco = float(input(\"Digite o valor do Produto\"))\n",
    "cod = int(input(\"Digite o código do produto\"))\n",
    "sul = 0.11\n",
    "norte = 0.13\n",
    "nordeste = 0.09\n",
    "centro = 0.12\n",
    "sudeste = 0.18\n",
    "\n",
    "if cod == 1:\n",
    "    orig = sul\n",
    "    valorfinal = preco * orig + preco\n",
    "    print(\"O produto veio da região Sul e seu preço final é R$\", valorfinal)\n",
    "elif cod == 2:\n",
    "    orig = norte\n",
    "    valorfinal = preco * orig + preco\n",
    "    print(\"O produto veio da região Norte e seu preço final é R$\", valorfinal)\n",
    "elif cod == 3:\n",
    "    orig = nordeste\n",
    "    valorfinal = preco * orig + preco\n",
    "    print(\"O produto veio da região Nordeste e seu preço final é R$\", valorfinal)\n",
    "elif cod == 4:\n",
    "    orig = centro\n",
    "    valorfinal = preco * orig + preco\n",
    "    print(\"O produto veio da região Centro-Oeste e seu preço final é R$\", valorfinal)\n",
    "elif cod == 5:\n",
    "    orig = sudeste\n",
    "    valorfinal = preco * orig + preco\n",
    "    print(\"O produto veio da região Sudeste e seu preço final é R$\", valorfinal)\n",
    "else:\n",
    "    print(\"Digite um código válido!\")\n",
    "          "
   ]
  },
  {
   "cell_type": "markdown",
   "id": "1b369cf0-4fc9-45a6-9e09-1f382b783ee2",
   "metadata": {},
   "source": [
    "## Exercício 5\n",
    "### Faça um programa que calcule as raízes de uma equação do segundo grau, na forma ax2 + bx + c.\n",
    "### O programa deverá pedir os valores de a, be c e fazer as consistências, informando ao usuário nas seguintes situações:\n",
    "#### • Se o usuário informar o valor de a igual a zero, a equação não é do segundo grau e o programa não deve fazer pedir os demais valores, sendo encerrado;\n",
    "#### • Se o delta calculado for negativo, a equação não possui raízes reais. Informe ao usuário e encerre o programa;\n",
    "#### • Se o delta calculado for igual a zero a equação possui apenas uma raiz real; informe-a ao usuário;\n",
    "#### • Se o delta for positivo, a equação possui duas raiz reais; informe-asao usuário;\n"
   ]
  },
  {
   "cell_type": "code",
   "execution_count": 39,
   "id": "a23914e4-0ecc-45f7-b51c-c5de876f16a2",
   "metadata": {},
   "outputs": [
    {
     "name": "stdin",
     "output_type": "stream",
     "text": [
      "Digite o valor de a. 1\n",
      "Digite o valor de b. -4\n",
      "Digite o valor de c. 4\n"
     ]
    },
    {
     "name": "stdout",
     "output_type": "stream",
     "text": [
      "Possui apenas uma raix, x1 é  2.0\n"
     ]
    }
   ],
   "source": [
    "import math\n",
    "\n",
    "a = float(input(\"Digite o valor de a.\"))\n",
    "if a == 0:\n",
    "    print(\"Não é uma equação de segundo grau!\")\n",
    "else:\n",
    "    b = float(input(\"Digite o valor de b.\"))\n",
    "    c = float(input(\"Digite o valor de c.\"))\n",
    "          \n",
    "    delta = (b**2) -4*a*c\n",
    "\n",
    "    if delta < 0:\n",
    "        print(\"Não possui raies reais!\")\n",
    "    else:\n",
    "        if delta == 0:\n",
    "            x1 = -b / (2 * a)\n",
    "            print(\"Possui apenas uma raix, x1 é \", x1)\n",
    "        else:\n",
    "            x1 = (-b) + math.sqrt(delta) / (2 * a)\n",
    "            x2 = (-b) - math.sqrt(delta) / (2 * a)\n",
    "            print(\"Possui duas raizes!\")\n",
    "            print(\"A raiz x1 da equação é: \", x1)\n",
    "            print(\"A raiz x2 da equação é: \", x2)\n",
    "            \n",
    "\n",
    "\n",
    "\n",
    "\n",
    "        "
   ]
  },
  {
   "cell_type": "code",
   "execution_count": null,
   "id": "20106357-ca97-400b-9268-a86df45a9fc0",
   "metadata": {},
   "outputs": [],
   "source": []
  }
 ],
 "metadata": {
  "kernelspec": {
   "display_name": "Python 3 (ipykernel)",
   "language": "python",
   "name": "python3"
  },
  "language_info": {
   "codemirror_mode": {
    "name": "ipython",
    "version": 3
   },
   "file_extension": ".py",
   "mimetype": "text/x-python",
   "name": "python",
   "nbconvert_exporter": "python",
   "pygments_lexer": "ipython3",
   "version": "3.12.7"
  }
 },
 "nbformat": 4,
 "nbformat_minor": 5
}
