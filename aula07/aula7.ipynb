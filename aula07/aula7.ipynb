{
 "cells": [
  {
   "cell_type": "code",
   "execution_count": 1,
   "id": "0ba4c055-01f6-4c4e-9bb4-951c9f8560da",
   "metadata": {},
   "outputs": [
    {
     "name": "stdin",
     "output_type": "stream",
     "text": [
      "Digite sua idade:  15\n"
     ]
    },
    {
     "name": "stdout",
     "output_type": "stream",
     "text": [
      "Espere um pouco!!\n",
      "viva e aproveite a  sua juventude!!\n",
      "Fim!\n"
     ]
    }
   ],
   "source": [
    "idade = int(input(\"Digite sua idade: \"))\n",
    "if idade >= 18:\n",
    "  print(\"Parabéns você é maior de idade: \")\n",
    "else:\n",
    "  print(\"Espere um pouco!!\")\n",
    "  print(\"viva e aproveite a  sua juventude!!\")\n",
    "print(\"Fim!\")"
   ]
  },
  {
   "cell_type": "code",
   "execution_count": 2,
   "id": "6ffe26f9-9f8e-4b0a-8f58-a9686d5c6487",
   "metadata": {},
   "outputs": [
    {
     "name": "stdin",
     "output_type": "stream",
     "text": [
      "Digite a primeira nota:  1\n",
      "Digite a segunda nota:  5\n"
     ]
    },
    {
     "name": "stdout",
     "output_type": "stream",
     "text": [
      "Sua média é:  3.0\n",
      "Reprovado!\n"
     ]
    }
   ],
   "source": [
    "from re import I\n",
    "nota1 = float(input(\"Digite a primeira nota: \"))\n",
    "nota2 = float(input(\"Digite a segunda nota: \"))\n",
    "# cálculo da media\n",
    "media = (nota1 + nota2) / 2\n",
    "\n",
    "print(\"Sua média é: \",media)\n",
    "\n",
    "if media >= 6:\n",
    "  print(\"Aprovado!\")\n",
    "  \n",
    "else:\n",
    "  print(\"Reprovado!\")"
   ]
  },
  {
   "cell_type": "code",
   "execution_count": 3,
   "id": "2dab69bb-ecfc-419c-bbc5-f8968fce0c3a",
   "metadata": {},
   "outputs": [
    {
     "name": "stdin",
     "output_type": "stream",
     "text": [
      "Digite uma fruta:  Banana\n"
     ]
    },
    {
     "name": "stdout",
     "output_type": "stream",
     "text": [
      "O kilo da Banana é R$ 5,23.\n"
     ]
    }
   ],
   "source": [
    "fruta = input(\"Digite uma fruta: \")\n",
    "if(fruta ==\"Banana\"):\n",
    "  # não é obrigatório colocar a comparação entre parenteses\n",
    "  print(\"O kilo da Banana é R$ 5,23.\")\n",
    "elif fruta == \"Maça\":\n",
    "  # não é obrigatório colocar a comparação entre parenteses\n",
    "  print(\"O kilo da Maçã é R$ 12,10.\")\n",
    "elif fruta == \"Cereja\":\n",
    "  print(\"O kilo da cereja é R$ 58,00.\")\n",
    "  # obrigatóriamente usando elif a ultima condição deve ser ELSE\n",
    "else:\n",
    "  print(\"Desculpe! No momento não temos esta fruta.\")"
   ]
  },
  {
   "cell_type": "code",
   "execution_count": null,
   "id": "66cbf9e3-b5e8-4b70-99c0-5de10e579cef",
   "metadata": {},
   "outputs": [],
   "source": []
  }
 ],
 "metadata": {
  "kernelspec": {
   "display_name": "Python 3 (ipykernel)",
   "language": "python",
   "name": "python3"
  },
  "language_info": {
   "codemirror_mode": {
    "name": "ipython",
    "version": 3
   },
   "file_extension": ".py",
   "mimetype": "text/x-python",
   "name": "python",
   "nbconvert_exporter": "python",
   "pygments_lexer": "ipython3",
   "version": "3.12.7"
  }
 },
 "nbformat": 4,
 "nbformat_minor": 5
}
